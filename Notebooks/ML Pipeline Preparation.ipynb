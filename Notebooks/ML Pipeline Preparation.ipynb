{
 "cells": [
  {
   "cell_type": "markdown",
   "metadata": {},
   "source": [
    "# ML Pipeline Preparation\n",
    "Follow the instructions below to help you create your ML pipeline.\n",
    "### 1. Import libraries and load data from database.\n",
    "- Import Python libraries\n",
    "- Load dataset from database with [`read_sql_table`](https://pandas.pydata.org/pandas-docs/stable/generated/pandas.read_sql_table.html)\n",
    "- Define feature and target variables X and Y"
   ]
  },
  {
   "cell_type": "code",
   "execution_count": 1,
   "metadata": {},
   "outputs": [
    {
     "name": "stdout",
     "output_type": "stream",
     "text": [
      "[nltk_data] Downloading package stopwords to /root/nltk_data...\n",
      "[nltk_data]   Package stopwords is already up-to-date!\n",
      "[nltk_data] Downloading package punkt to /root/nltk_data...\n",
      "[nltk_data]   Package punkt is already up-to-date!\n",
      "[nltk_data] Downloading package wordnet to /root/nltk_data...\n",
      "[nltk_data]   Package wordnet is already up-to-date!\n"
     ]
    }
   ],
   "source": [
    "# import libraries\n",
    "import pandas as pd\n",
    "import numpy as np\n",
    "from sqlalchemy import create_engine\n",
    "\n",
    "import nltk\n",
    "nltk.download(['stopwords', 'punkt', 'wordnet'])\n",
    "\n",
    "from nltk.corpus import stopwords\n",
    "from nltk.tokenize import word_tokenize\n",
    "from nltk.stem import WordNetLemmatizer\n",
    "\n",
    "from sklearn.pipeline import Pipeline\n",
    "from sklearn.feature_extraction.text import CountVectorizer, TfidfTransformer\n",
    "\n",
    "from sklearn.multioutput import MultiOutputClassifier\n",
    "from sklearn.ensemble import RandomForestClassifier\n",
    "from sklearn.model_selection import train_test_split, GridSearchCV\n",
    "from sklearn.metrics import classification_report"
   ]
  },
  {
   "cell_type": "code",
   "execution_count": 2,
   "metadata": {},
   "outputs": [],
   "source": [
    "# load data from database\n",
    "engine = create_engine('sqlite:///DisasterResponse.db')\n",
    "df = pd.read_sql_table('DisasterResponse', engine)\n",
    "X = df['message'].values\n",
    "y = df.drop(['id','message','original','genre'], axis=1)"
   ]
  },
  {
   "cell_type": "code",
   "execution_count": 10,
   "metadata": {},
   "outputs": [
    {
     "data": {
      "text/plain": [
       "array(['Weather update - a cold front from Cuba that could pass over Haiti',\n",
       "       'Is the Hurricane over or is it not over',\n",
       "       'Looking for someone but no name', ...,\n",
       "       \"Proshika, operating in Cox's Bazar municipality and 5 other unions, Ramu and Chokoria, assessment, 5 kg rice, 1,5 kg lentils to 700 families.\",\n",
       "       'Some 2,000 women protesting against the conduct of the elections were teargassed as they tried to converge on the local electoral commission offices in the southern oil city of Port Harcourt.',\n",
       "       'A radical shift in thinking came about as a result of this meeting, recognizing that HIV/AIDS is at the core of the humanitarian crisis and identifying the crisis itself as a function of the HIV/AIDS pandemic.'], dtype=object)"
      ]
     },
     "execution_count": 10,
     "metadata": {},
     "output_type": "execute_result"
    }
   ],
   "source": [
    "X"
   ]
  },
  {
   "cell_type": "markdown",
   "metadata": {},
   "source": [
    "### 2. Write a tokenization function to process your text data"
   ]
  },
  {
   "cell_type": "code",
   "execution_count": 4,
   "metadata": {},
   "outputs": [],
   "source": [
    "def tokenize(text):\n",
    "    '''\n",
    "    A tokenization function to process the text data\n",
    "    ---\n",
    "    Input - text\n",
    "    output - cleaned tokens\n",
    "    '''\n",
    "    stop_words = stopwords.words('english')\n",
    "    lemmatizer = WordNetLemmatizer()\n",
    "    \n",
    "    token = word_tokenize(text)\n",
    "    \n",
    "    clean = []\n",
    "    for tok in token:\n",
    "        tok_clean = lemmatizer.lemmatize(tok).lower().strip()\n",
    "        if tok_clean not in stop_words:\n",
    "            clean.append(tok_clean)\n",
    "    return clean\n",
    "    "
   ]
  },
  {
   "cell_type": "markdown",
   "metadata": {},
   "source": [
    "### 3. Build a machine learning pipeline\n",
    "This machine pipeline should take in the `message` column as input and output classification results on the other 36 categories in the dataset. You may find the [MultiOutputClassifier](http://scikit-learn.org/stable/modules/generated/sklearn.multioutput.MultiOutputClassifier.html) helpful for predicting multiple target variables."
   ]
  },
  {
   "cell_type": "code",
   "execution_count": 5,
   "metadata": {},
   "outputs": [],
   "source": [
    "pipeline = Pipeline([\n",
    "    ('vect', CountVectorizer(tokenizer=tokenize)),\n",
    "    ('tfidf', TfidfTransformer()),\n",
    "    ('clf', MultiOutputClassifier(RandomForestClassifier(), n_jobs=-1))\n",
    "])"
   ]
  },
  {
   "cell_type": "markdown",
   "metadata": {},
   "source": [
    "### 4. Train pipeline\n",
    "- Split data into train and test sets\n",
    "- Train pipeline"
   ]
  },
  {
   "cell_type": "code",
   "execution_count": 6,
   "metadata": {},
   "outputs": [
    {
     "data": {
      "text/plain": [
       "Pipeline(memory=None,\n",
       "     steps=[('vect', CountVectorizer(analyzer='word', binary=False, decode_error='strict',\n",
       "        dtype=<class 'numpy.int64'>, encoding='utf-8', input='content',\n",
       "        lowercase=True, max_df=1.0, max_features=None, min_df=1,\n",
       "        ngram_range=(1, 1), preprocessor=None, stop_words=None,\n",
       "        strip...ob_score=False, random_state=None, verbose=0,\n",
       "            warm_start=False),\n",
       "           n_jobs=-1))])"
      ]
     },
     "execution_count": 6,
     "metadata": {},
     "output_type": "execute_result"
    }
   ],
   "source": [
    "X_train, X_test, y_train, y_test = train_test_split(X, y)\n",
    "pipeline.fit(X_train, y_train)"
   ]
  },
  {
   "cell_type": "markdown",
   "metadata": {},
   "source": [
    "### 5. Test your model\n",
    "Report the f1 score, precision and recall for each output category of the dataset. You can do this by iterating through the columns and calling sklearn's `classification_report` on each."
   ]
  },
  {
   "cell_type": "code",
   "execution_count": 9,
   "metadata": {},
   "outputs": [
    {
     "name": "stdout",
     "output_type": "stream",
     "text": [
      "                        precision    recall  f1-score   support\n",
      "\n",
      "               related       0.60      0.40      0.48      1513\n",
      "               request       0.83      0.92      0.87      4996\n",
      "                 offer       0.55      0.13      0.21        45\n",
      "\n",
      "           avg / total       0.78      0.79      0.78      6554\n",
      "\n",
      "                        precision    recall  f1-score   support\n",
      "\n",
      "               related       0.89      0.98      0.93      5441\n",
      "               request       0.81      0.42      0.55      1113\n",
      "\n",
      "           avg / total       0.88      0.88      0.87      6554\n",
      "\n",
      "                        precision    recall  f1-score   support\n",
      "\n",
      "               related       1.00      1.00      1.00      6534\n",
      "               request       0.00      0.00      0.00        20\n",
      "\n",
      "           avg / total       0.99      1.00      1.00      6554\n",
      "\n",
      "                        precision    recall  f1-score   support\n",
      "\n",
      "               related       0.75      0.86      0.80      3849\n",
      "               request       0.75      0.58      0.65      2705\n",
      "\n",
      "           avg / total       0.75      0.75      0.74      6554\n",
      "\n",
      "                        precision    recall  f1-score   support\n",
      "\n",
      "               related       0.93      0.99      0.96      6024\n",
      "               request       0.58      0.11      0.19       530\n",
      "\n",
      "           avg / total       0.90      0.92      0.90      6554\n",
      "\n",
      "                        precision    recall  f1-score   support\n",
      "\n",
      "               related       0.95      1.00      0.98      6226\n",
      "               request       0.66      0.06      0.12       328\n",
      "\n",
      "           avg / total       0.94      0.95      0.93      6554\n",
      "\n",
      "                        precision    recall  f1-score   support\n",
      "\n",
      "               related       0.97      1.00      0.99      6370\n",
      "               request       0.64      0.09      0.15       184\n",
      "\n",
      "           avg / total       0.96      0.97      0.96      6554\n",
      "\n",
      "                        precision    recall  f1-score   support\n",
      "\n",
      "               related       0.98      1.00      0.99      6435\n",
      "               request       0.00      0.00      0.00       119\n",
      "\n",
      "           avg / total       0.96      0.98      0.97      6554\n",
      "\n",
      "                        precision    recall  f1-score   support\n",
      "\n",
      "               related       0.97      1.00      0.98      6326\n",
      "               request       0.62      0.11      0.19       228\n",
      "\n",
      "           avg / total       0.96      0.97      0.96      6554\n",
      "\n",
      "                        precision    recall  f1-score   support\n",
      "\n",
      "               related       1.00      1.00      1.00      6554\n",
      "\n",
      "           avg / total       1.00      1.00      1.00      6554\n",
      "\n",
      "                        precision    recall  f1-score   support\n",
      "\n",
      "               related       0.95      1.00      0.97      6105\n",
      "               request       0.84      0.30      0.44       449\n",
      "\n",
      "           avg / total       0.94      0.95      0.94      6554\n",
      "\n",
      "                        precision    recall  f1-score   support\n",
      "\n",
      "               related       0.93      0.99      0.96      5821\n",
      "               request       0.85      0.41      0.55       733\n",
      "\n",
      "           avg / total       0.92      0.93      0.91      6554\n",
      "\n",
      "                        precision    recall  f1-score   support\n",
      "\n",
      "               related       0.95      0.99      0.97      5986\n",
      "               request       0.80      0.40      0.53       568\n",
      "\n",
      "           avg / total       0.93      0.94      0.93      6554\n",
      "\n",
      "                        precision    recall  f1-score   support\n",
      "\n",
      "               related       0.99      1.00      0.99      6449\n",
      "               request       0.70      0.07      0.12       105\n",
      "\n",
      "           avg / total       0.98      0.98      0.98      6554\n",
      "\n",
      "                        precision    recall  f1-score   support\n",
      "\n",
      "               related       0.98      1.00      0.99      6414\n",
      "               request       0.75      0.04      0.08       140\n",
      "\n",
      "           avg / total       0.97      0.98      0.97      6554\n",
      "\n",
      "                        precision    recall  f1-score   support\n",
      "\n",
      "               related       0.99      1.00      0.99      6479\n",
      "               request       0.00      0.00      0.00        75\n",
      "\n",
      "           avg / total       0.98      0.99      0.98      6554\n",
      "\n",
      "                        precision    recall  f1-score   support\n",
      "\n",
      "               related       0.97      1.00      0.98      6326\n",
      "               request       0.64      0.10      0.17       228\n",
      "\n",
      "           avg / total       0.96      0.97      0.95      6554\n",
      "\n",
      "                        precision    recall  f1-score   support\n",
      "\n",
      "               related       0.96      1.00      0.98      6227\n",
      "               request       0.80      0.13      0.23       327\n",
      "\n",
      "           avg / total       0.95      0.96      0.94      6554\n",
      "\n",
      "                        precision    recall  f1-score   support\n",
      "\n",
      "               related       0.88      1.00      0.93      5732\n",
      "               request       0.54      0.04      0.07       822\n",
      "\n",
      "           avg / total       0.84      0.88      0.83      6554\n",
      "\n",
      "                        precision    recall  f1-score   support\n",
      "\n",
      "               related       0.93      1.00      0.96      6111\n",
      "               request       0.21      0.01      0.01       443\n",
      "\n",
      "           avg / total       0.88      0.93      0.90      6554\n",
      "\n",
      "                        precision    recall  f1-score   support\n",
      "\n",
      "               related       0.96      1.00      0.98      6244\n",
      "               request       0.71      0.13      0.21       310\n",
      "\n",
      "           avg / total       0.95      0.96      0.94      6554\n",
      "\n",
      "                        precision    recall  f1-score   support\n",
      "\n",
      "               related       0.96      1.00      0.98      6237\n",
      "               request       0.73      0.11      0.20       317\n",
      "\n",
      "           avg / total       0.95      0.96      0.94      6554\n",
      "\n",
      "                        precision    recall  f1-score   support\n",
      "\n",
      "               related       0.98      1.00      0.99      6415\n",
      "               request       0.33      0.01      0.01       139\n",
      "\n",
      "           avg / total       0.97      0.98      0.97      6554\n",
      "\n",
      "                        precision    recall  f1-score   support\n",
      "\n",
      "               related       0.99      1.00      1.00      6502\n",
      "               request       0.00      0.00      0.00        52\n",
      "\n",
      "           avg / total       0.98      0.99      0.99      6554\n",
      "\n",
      "                        precision    recall  f1-score   support\n",
      "\n",
      "               related       0.99      1.00      0.99      6480\n",
      "               request       0.00      0.00      0.00        74\n",
      "\n",
      "           avg / total       0.98      0.99      0.98      6554\n",
      "\n",
      "                        precision    recall  f1-score   support\n",
      "\n",
      "               related       1.00      1.00      1.00      6523\n",
      "               request       0.00      0.00      0.00        31\n",
      "\n",
      "           avg / total       0.99      1.00      0.99      6554\n",
      "\n",
      "                        precision    recall  f1-score   support\n",
      "\n",
      "               related       0.99      1.00      0.99      6477\n",
      "               request       0.00      0.00      0.00        77\n",
      "\n",
      "           avg / total       0.98      0.99      0.98      6554\n",
      "\n",
      "                        precision    recall  f1-score   support\n",
      "\n",
      "               related       0.95      1.00      0.98      6256\n",
      "               request       0.12      0.00      0.01       298\n",
      "\n",
      "           avg / total       0.92      0.95      0.93      6554\n",
      "\n",
      "                        precision    recall  f1-score   support\n",
      "\n",
      "               related       0.85      0.96      0.90      4690\n",
      "               request       0.86      0.58      0.69      1864\n",
      "\n",
      "           avg / total       0.85      0.85      0.84      6554\n",
      "\n",
      "                        precision    recall  f1-score   support\n",
      "\n",
      "               related       0.94      1.00      0.97      6021\n",
      "               request       0.91      0.30      0.45       533\n",
      "\n",
      "           avg / total       0.94      0.94      0.93      6554\n",
      "\n",
      "                        precision    recall  f1-score   support\n",
      "\n",
      "               related       0.94      0.99      0.96      5900\n",
      "               request       0.78      0.39      0.52       654\n",
      "\n",
      "           avg / total       0.92      0.93      0.92      6554\n",
      "\n",
      "                        precision    recall  f1-score   support\n",
      "\n",
      "               related       0.99      1.00      0.99      6480\n",
      "               request       0.67      0.03      0.05        74\n",
      "\n",
      "           avg / total       0.99      0.99      0.98      6554\n",
      "\n",
      "                        precision    recall  f1-score   support\n",
      "\n",
      "               related       0.97      0.99      0.98      5923\n",
      "               request       0.92      0.67      0.77       631\n",
      "\n",
      "           avg / total       0.96      0.96      0.96      6554\n",
      "\n",
      "                        precision    recall  f1-score   support\n",
      "\n",
      "               related       0.98      1.00      0.99      6400\n",
      "               request       0.82      0.09      0.16       154\n",
      "\n",
      "           avg / total       0.97      0.98      0.97      6554\n",
      "\n",
      "                        precision    recall  f1-score   support\n",
      "\n",
      "               related       0.95      1.00      0.97      6193\n",
      "               request       0.60      0.03      0.06       361\n",
      "\n",
      "           avg / total       0.93      0.95      0.92      6554\n",
      "\n",
      "                        precision    recall  f1-score   support\n",
      "\n",
      "               related       0.86      0.97      0.91      5311\n",
      "               request       0.73      0.33      0.46      1243\n",
      "\n",
      "           avg / total       0.84      0.85      0.83      6554\n",
      "\n"
     ]
    },
    {
     "name": "stderr",
     "output_type": "stream",
     "text": [
      "/opt/conda/lib/python3.6/site-packages/sklearn/metrics/classification.py:1428: UserWarning: labels size, 3, does not match size of target_names, 36\n",
      "  .format(len(labels), len(target_names))\n",
      "/opt/conda/lib/python3.6/site-packages/sklearn/metrics/classification.py:1428: UserWarning: labels size, 2, does not match size of target_names, 36\n",
      "  .format(len(labels), len(target_names))\n",
      "/opt/conda/lib/python3.6/site-packages/sklearn/metrics/classification.py:1428: UserWarning: labels size, 1, does not match size of target_names, 36\n",
      "  .format(len(labels), len(target_names))\n",
      "/opt/conda/lib/python3.6/site-packages/sklearn/metrics/classification.py:1135: UndefinedMetricWarning: Precision and F-score are ill-defined and being set to 0.0 in labels with no predicted samples.\n",
      "  'precision', 'predicted', average, warn_for)\n"
     ]
    }
   ],
   "source": [
    "y_pred = pipeline.predict(X_test)\n",
    "for i in range(y_pred.shape[1]):\n",
    "    print(classification_report(np.array(y_test)[:,i], y_pred[:,i], target_names=y.columns))"
   ]
  },
  {
   "cell_type": "markdown",
   "metadata": {},
   "source": [
    "### 6. Improve your model\n",
    "Use grid search to find better parameters. "
   ]
  },
  {
   "cell_type": "code",
   "execution_count": null,
   "metadata": {},
   "outputs": [],
   "source": [
    "pipeline.get_params().keys()"
   ]
  },
  {
   "cell_type": "code",
   "execution_count": null,
   "metadata": {},
   "outputs": [],
   "source": [
    "parameters = {\n",
    "#         'features__text_pipeline__vect__ngram_range': ((1, 1), (1, 2)),\n",
    "#         'features__text_pipeline__vect__max_df': (0.5, 0.75, 1.0),\n",
    "#         'features__text_pipeline__vect__max_features': (None, 5000, 10000),\n",
    "#         'features__text_pipeline__tfidf__use_idf': (True, False),\n",
    "#         'clf__estimator__n_estimators': [50, 100, 200],\n",
    "#         'clf__estimator__min_samples_split': [2, 3, 4]\n",
    "#         'clf__estimator__random_state': (100, 200),\n",
    "#         'clf__estimator__alpha': [0.001, 0.01],\n",
    "#         'clf__estimator__batch_size':[20, 40, 60, 80, 100]\n",
    "    'vect__max_df': (0.5, 0.75, 1.0)\n",
    "    }\n",
    "\n",
    "cv = GridSearchCV(pipeline, param_grid=parameters, n_jobs=-1, cv=2)"
   ]
  },
  {
   "cell_type": "markdown",
   "metadata": {},
   "source": [
    "### 7. Test your model\n",
    "Show the accuracy, precision, and recall of the tuned model.  \n",
    "\n",
    "Since this project focuses on code quality, process, and  pipelines, there is no minimum performance metric needed to pass. However, make sure to fine tune your models for accuracy, precision and recall to make your project stand out - especially for your portfolio!"
   ]
  },
  {
   "cell_type": "code",
   "execution_count": null,
   "metadata": {},
   "outputs": [],
   "source": [
    "cv.fit(X_train, y_train)"
   ]
  },
  {
   "cell_type": "markdown",
   "metadata": {},
   "source": [
    "### 8. Try improving your model further. Here are a few ideas:\n",
    "* try other machine learning algorithms\n",
    "* add other features besides the TF-IDF"
   ]
  },
  {
   "cell_type": "code",
   "execution_count": null,
   "metadata": {},
   "outputs": [],
   "source": [
    "y_pred_cv = cv.predict(X_test)\n",
    "for i in range(y_pred_cv.shape[1]):\n",
    "    print(classification_report(np.array(y_test)[:,i], y_pred_cv[:,i]))"
   ]
  },
  {
   "cell_type": "markdown",
   "metadata": {},
   "source": [
    "### 9. Export your model as a pickle file"
   ]
  },
  {
   "cell_type": "code",
   "execution_count": null,
   "metadata": {},
   "outputs": [],
   "source": [
    "import pickle\n",
    "pkl_filename = \"classifier.pkl\"\n",
    "with open(pkl_filename, 'wb') as file:\n",
    "    pickle.dump(cv, file)"
   ]
  },
  {
   "cell_type": "markdown",
   "metadata": {},
   "source": [
    "### 10. Use this notebook to complete `train.py`\n",
    "Use the template file attached in the Resources folder to write a script that runs the steps above to create a database and export a model based on a new dataset specified by the user."
   ]
  },
  {
   "cell_type": "code",
   "execution_count": null,
   "metadata": {},
   "outputs": [],
   "source": []
  }
 ],
 "metadata": {
  "kernelspec": {
   "display_name": "Python 3",
   "language": "python",
   "name": "python3"
  },
  "language_info": {
   "codemirror_mode": {
    "name": "ipython",
    "version": 3
   },
   "file_extension": ".py",
   "mimetype": "text/x-python",
   "name": "python",
   "nbconvert_exporter": "python",
   "pygments_lexer": "ipython3",
   "version": "3.6.3"
  }
 },
 "nbformat": 4,
 "nbformat_minor": 2
}
